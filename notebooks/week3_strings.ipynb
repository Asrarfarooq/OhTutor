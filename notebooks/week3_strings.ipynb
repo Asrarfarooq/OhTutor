{
 "cells": [
  {
   "cell_type": "markdown",
   "metadata": {},
   "source": [
    "# Week 3: Strings and Text in Python\n",
    "\n",
    "Welcome to Week 3 of the OhTutor Python Course! This week, we'll dive into the world of strings - how to create them, manipulate them, and use them in our programs."
   ]
  },
  {
   "cell_type": "markdown",
   "metadata": {},
   "source": [
    "## Monday: Introduction to Strings\n",
    "\n",
    "### What are Strings?\n",
    "\n",
    "In Python, a string is a sequence of characters. It can be letters, numbers, symbols, or even spaces. We use strings to work with text in our programs.\n",
    "\n",
    "To create a string, we enclose the text in either single quotes ('') or double quotes (\"\")."
   ]
  },
  {
   "cell_type": "code",
   "execution_count": null,
   "metadata": {},
   "outputs": [],
   "source": [
    "greeting = \"Hello, World!\"\n",
    "name = 'Alice'\n",
    "favorite_number = \"42\"\n",
    "\n",
    "print(greeting)\n",
    "print(name)\n",
    "print(favorite_number)\n",
    "\n",
    "# Note: Even though favorite_number contains digits, it's still a string!"
    "print(type(favorite_number))"
   ]
  },
  {
   "cell_type": "markdown",
   "metadata": {},
   "source": [
    "### String Concatenation\n",
    "\n",
    "We can join strings together using the '+' operator. This is called concatenation."
   ]
  },
  {
   "cell_type": "code",
   "execution_count": null,
   "metadata": {},
   "outputs": [],
   "source": [
    "first_name = \"John\"\n",
    "last_name = \"Doe\"\n",
    "full_name = first_name + \" \" + last_name\n",
    "\n",
    "print(full_name)"
   ]
  },
  {
   "cell_type": "markdown",
   "metadata": {},
   "source": [
    "### String Length\n",
    "\n",
    "We can find out how many characters are in a string using the `len()` function."
   ]
  },
  {
   "cell_type": "code",
   "execution_count": null,
   "metadata": {},
   "outputs": [],
   "source": [
    "message = \"I love Python!\"\n",
    "print(\"The message has\", len(message), \"characters.\")"
   ]
  },
  {
   "cell_type": "markdown",
   "metadata": {},
   "source": [
    "### Exercise: Create Your Own Strings\n",
    "\n",
    "Now it's your turn! Complete the following exercises:"
   ]
  },
  {
   "cell_type": "code",
   "execution_count": null,
   "metadata": {},
   "outputs": [],
   "source": [
    "# 1. Create a string variable called 'favorite_food' and set it to your favorite food\n",
    "favorite_food = \"\"  # Your code here\n",
    "\n",
    "# 2. Create another string variable called 'favorite_drink'\n",
    "favorite_drink = \"\"  # Your code here\n",
    "\n",
    "# 3. Concatenate these two variables into a new variable called 'favorite_meal'\n",
    "# Don't forget to add a space or \"and\" between the food and drink!\n",
    "favorite_meal = \"\"  # Your code here\n",
    "\n",
    "# 4. Print your favorite_meal\n",
    "# Your code here\n",
    "\n",
    "# 5. Print the length of your favorite_meal string\n",
    "# Your code here"
   ]
  },
  {
   "cell_type": "markdown",
   "metadata": {},
   "source": [
    "## Wednesday: String Operations and Methods\n",
    "\n",
    "### Accessing Characters in a String\n",
    "\n",
    "We can access individual characters in a string using their index. Remember, in Python, we start counting from 0!"
   ]
  },
  {
   "cell_type": "code",
   "execution_count": null,
   "metadata": {},
   "outputs": [],
   "source": [
    "word = \"Python\"\n",
    "print(\"The first letter is:\", word[0])\n",
    "print(\"The third letter is:\", word[2])\n",
    "print(\"The last letter is:\", word[-1])  # Negative indices count from the end"
   ]
  },
  {
   "cell_type": "markdown",
   "metadata": {},
   "source": [
    "### Slicing Strings\n",
    "\n",
    "We can also extract a portion of a string using slicing."
   ]
  },
  {
   "cell_type": "code",
   "execution_count": null,
   "metadata": {},
   "outputs": [],
   "source": [
    "sentence = \"The quick brown fox jumps over the lazy dog\"\n",
    "print(sentence[4:9])    # Prints 'quick'\n",
    "print(sentence[:3])     # Prints 'The'\n",
    "print(sentence[-3:])    # Prints 'dog'\n",
    "print(sentence[::2])    # Prints every second character"
   ]
  },
  {
   "cell_type": "markdown",
   "metadata": {},
   "source": [
    "### String Methods\n",
    "\n",
    "Python provides many useful methods to work with strings. Let's explore some of them!"
   ]
  },
  {
   "cell_type": "code",
   "execution_count": null,
   "metadata": {},
   "outputs": [],
   "source": [
    "message = \"Hello, World!\"\n",
    "\n",
    "print(message.upper())          # Convert to uppercase\n",
    "print(message.lower())          # Convert to lowercase\n",
    "print(message.replace(\"o\", \"0\"))  # Replace characters\n",
    "print(message.count(\"l\"))        # Count occurrences of a substring\n",
    "print(message.find(\"World\"))     # Find the index of a substring"
   ]
  },
  {
   "cell_type": "markdown",
   "metadata": {},
   "source": [
    "### Exercise: String Operations\n",
    "\n",
    "Let's practice what we've learned!"
   ]
  },
  {
   "cell_type": "code",
   "execution_count": null,
   "metadata": {},
   "outputs": [],
   "source": [
    "# Given string\n",
    "text = \"Python is awesome!\"\n",
    "\n",
    "# 1. Print the length of the string\n",
    "# Your code here\n",
    "\n",
    "# 2. Print the first 6 characters of the string\n",
    "# Your code here\n",
    "\n",
    "# 3. Print the last 9 characters of the string\n",
    "# Your code here\n",
    "\n",
    "# 4. Print the string in all uppercase\n",
    "# Your code here\n",
    "\n",
    "# 5. Replace 'awesome' with 'amazing' and print the result\n",
    "# Your code here\n",
    "\n",
    "# 6. Print how many times the letter 'o' appears in the string\n",
    "# Your code here"
   ]
  },
  {
   "cell_type": "markdown",
   "metadata": {},
   "source": [
    "## Friday: String Formatting and Fun Project\n",
    "\n",
    "### String Formatting\n",
    "\n",
    "There are several ways to format strings in Python. We'll look at two common methods: f-strings and the `.format()` method."
   ]
  },
  {
   "cell_type": "code",
   "execution_count": null,
   "metadata": {},
   "outputs": [],
   "source": [
    "name = \"Alice\"\n",
    "age = 12\n",
    "\n",
    "# Using f-strings (Python 3.6+)\n",
    "print(f\"My name is {name} and I am {age} years old.\")\n",
    "\n",
    "# Using .format() method\n",
    "print(\"My name is {} and I am {} years old.\".format(name, age))\n",
    "\n",
    "# Formatting numbers\n",
    "pi = 3.14159\n",
    "print(f\"The value of pi to 2 decimal places is {pi:.2f}\")"
   ]
  },
  {
   "cell_type": "markdown",
   "metadata": {},
   "source": [
    "### Fun Project: Create a Mad Libs Game\n",
    "\n",
    "Let's use what we've learned about strings to create a fun Mad Libs game!"
   ]
  },
  {
   "cell_type": "code",
   "execution_count": null,
   "metadata": {},
   "outputs": [],
   "source": [
    "# Mad Libs Game\n",
    "\n",
    "# Get input from the user\n",
    "adjective1 = input(\"Enter an adjective: \")\n",
    "noun1 = input(\"Enter a noun: \")\n",
    "verb1 = input(\"Enter a verb ending in 'ed': \")\n",
    "adverb1 = input(\"Enter an adverb: \")\n",
    "adjective2 = input(\"Enter another adjective: \")\n",
    "noun2 = input(\"Enter another noun: \")\n",
    "verb2 = input(\"Enter another verb: \")\n",
    "\n",
    "# Create the story\n",
    "story = f\"\"\"Once upon a time, in a {adjective1} {noun1}, a brave explorer {verb1} {adverb1}.\n",
    "Suddenly, a {adjective2} {noun2} appeared and started to {verb2}!\n",
    "The explorer couldn't believe their eyes and decided it was time for a new adventure.\"\"\"\n",
    "\n",
    "# Print the story\n",
    "print(\"\\nHere's your Mad Libs story:\\n\")\n",
    "print(story)"
   ]
  },
  {
   "cell_type": "markdown",
   "metadata": {},
   "source": [
    "### Challenge: Improve the Mad Libs Game\n",
    "\n",
    "Can you improve our Mad Libs game? Here are some ideas:\n",
    "1. Add more words to make the story longer and funnier\n",
    "2. Create multiple story templates and randomly choose one\n",
    "3. Add error checking to make sure the user enters the correct type of word\n",
    "4. Allow the user to play again without restarting the program\n",
    "\n",
    "Try implementing one or more of these features!"
   ]
  },
  {
   "cell_type": "code",
   "execution_count": null,
   "metadata": {},
   "outputs": [],
   "source": [
    "# Your improved Mad Libs game here\n",
    "# Remember to use comments to explain what your code does!"
   ]
  },
  {
   "cell_type": "markdown",
   "metadata": {},
   "source": [
    "## Mini Quiz: Strings and Text in Python\n",
    "\n",
    "Let's test your understanding with a quick quiz. Try to answer these questions without looking back at the notes. After you've answered, run the cell to check your answers!"
   ]
  },
  {
   "cell_type": "code",
   "execution_count": null,
   "metadata": {},
   "outputs": [],
   "source": [
    "# Mini Quiz\n",
    "\n",
    "print(\"Answer these questions by replacing the '?' with the correct letter (a, b, c, or d)\")\n",
    "print(\"After answering all questions, run this cell to check your answers!\")\n",
    "\n",
    "q1 = \"?\"  # What is the output of len(\"Hello, World!\")\n",
    "q2 = \"?\"  # Which of these is NOT a valid way to create a string in Python?\n",
    "q3 = \"?\"  # What does the following code print? name = \"Alice\"; print(name[1])\n",
    "q4 = \"?\"  # How do you convert a string to uppercase in Python?\n",
    "q5 = \"?\"  # What is the output of \"Python\"[2:5]\n",
    "\n",
    "# Check answers\n",
    "score = 0\n",
    "if q1.lower() == \"b\":\n",
    "    score += 1\n",
    "    print(\"Question 1: Correct!\")\n",
    "else:\n",
    "    print(\"Question 1: Incorrect. The correct answer is b) 13\")\n",
    "\n",
    "if q2.lower() == \"d\":\n",
    "    score += 1\n",
    "    print(\"Question 2: Correct!\")\n",
    "else:\n",
    "    print(\"Question 2: Incorrect. The correct answer is d) str[Hello]\")\n",
    "\n",
    "if q3.lower() == \"a\":\n",
    "    score += 1\n",
    "    print(\"Question 3: Correct!\")\n",
    "else:\n",
    "    print(\"Question 3: Incorrect. The correct answer is a) l\")\n",
    "\n",
    "if q4.lower() == \"c\":\n",
    "    score += 1\n",
    "    print(\"Question 4: Correct!\")\n",
    "else:\n",
    "    print(\"Question 4: Incorrect. The correct answer is c) string.upper()\")\n",
    "\n",
    "if q5.lower() == \"b\":\n",
    "    score += 1\n",
    "    print(\"Question 5: Correct!\")\n",
    "else:\n",
    "    print(\"Question 5: Incorrect. The correct answer is b) tho\")\n",
    "\n",
    "print(f\"\\nYour score: {score} out of 5\")\n",
    "if score == 5:\n",
    "    print(\"Perfect score! You're a string master!\")\n",
    "elif score >= 3:\n",
    "    print(\"Good work! Keep practicing those string skills.\")\n",
    "else:\n",
    "    print(\"Keep working on it\")
     }
{
 "cells": [
  {
   "cell_type": "markdown",
   "metadata": {},
   "source": [
    "! Strings can be tricky, but you'll get there with practice.\")"
   ]
  },
  {
   "cell_type": "markdown",
   "metadata": {},
   "source": [
    "## Bonus Section: Advanced String Operations\n",
    "\n",
    "Great job making it this far! If you're up for a challenge, let's look at some more advanced string operations."
   ]
  },
  {
   "cell_type": "markdown",
   "metadata": {},
   "source": [
    "### Splitting and Joining Strings\n",
    "\n",
    "Sometimes we need to break a string into parts or combine multiple strings into one."
   ]
  },
  {
   "cell_type": "code",
   "execution_count": null,
   "metadata": {},
   "outputs": [],
   "source": [
    "# Splitting a string\n",
    "sentence = \"The quick brown fox jumps over the lazy dog\"\n",
    "words = sentence.split()\n",
    "print(\"Words in the sentence:\", words)\n",
    "\n",
    "# Joining strings\n",
    "new_sentence = \" \".join(words)\n",
    "print(\"Joined sentence:\", new_sentence)\n",
    "\n",
    "# Splitting with a different delimiter\n",
    "date = \"2023-08-10\"\n",
    "year, month, day = date.split(\"-\")\n",
    "print(f\"Year: {year}, Month: {month}, Day: {day}\")"
   ]
  },
  {
   "cell_type": "markdown",
   "metadata": {},
   "source": [
    "### String Stripping\n",
    "\n",
    "Sometimes strings have extra whitespace at the beginning or end that we want to remove."
   ]
  },
  {
   "cell_type": "code",
   "execution_count": null,
   "metadata": {},
   "outputs": [],
   "source": [
    "messy_string = \"    Hello, World!    \"\n",
    "print(\"Original string:\", messy_string)\n",
    "print(\"Stripped string:\", messy_string.strip())\n",
    "\n",
    "# We can also strip specific characters\n",
    "url = \"https://www.example.com/\"\n",
    "print(\"Stripped URL:\", url.strip(\"https://\").strip(\"/\"))"
   ]
  },
  {
   "cell_type": "markdown",
   "metadata": {},
   "source": [
    "### String Checking Methods\n",
    "\n",
    "Python provides several methods to check properties of strings."
   ]
  },
  {
   "cell_type": "code",
   "execution_count": null,
   "metadata": {},
   "outputs": [],
   "source": [
    "# Check if a string starts or ends with a substring\n",
    "filename = \"document.txt\"\n",
    "print(f\"Does {filename} start with 'doc'?\", filename.startswith(\"doc\"))\n",
    "print(f\"Does {filename} end with '.pdf'?\", filename.endswith(\".pdf\"))\n",
    "\n",
    "# Check if a string contains only letters, numbers, or both\n",
    "print(\"Is 'Python3' alphanumeric?\", \"Python3\".isalnum())\n",
    "print(\"Is 'Hello' alphabetic?\", \"Hello\".isalpha())\n",
    "print(\"Is '12345' numeric?\", \"12345\".isnumeric())\n",
    "\n",
    "# Check string case\n",
    "print(\"Is 'HELLO' uppercase?\", \"HELLO\".isupper())\n",
    "print(\"Is 'hello' lowercase?\", \"hello\".islower())\n",
    "print(\"Is 'Hello World' title case?\", \"Hello World\".istitle())"
   ]
  },
  {
   "cell_type": "markdown",
   "metadata": {},
   "source": [
    "### Advanced Exercise: Password Validator\n",
    "\n",
    "Let's use what we've learned to create a simple password validator. The password should:\n",
    "1. Be at least 8 characters long\n",
    "2. Contain at least one uppercase letter\n",
    "3. Contain at least one lowercase letter\n",
    "4. Contain at least one number\n",
    "5. Not contain spaces"
   ]
  },
  {
   "cell_type": "code",
   "execution_count": null,
   "metadata": {},
   "outputs": [],
   "source": [
    "def validate_password(password):\n",
    "    if len(password) < 8:\n",
    "        return False\n",
    "    if not any(char.isupper() for char in password):\n",
    "        return False\n",
    "    if not any(char.islower() for char in password):\n",
    "        return False\n",
    "    if not any(char.isdigit() for char in password):\n",
    "        return False\n",
    "    if \" \" in password:\n",
    "        return False\n",
    "    return True\n",
    "\n",
    "# Test the password validator\n",
    "test_passwords = [\"password123\", \"Password123\", \"PASSWORD123\", \"Pass word123\", \"Pa55w0rd\"]\n",
    "\n",
    "for password in test_passwords:\n",
    "    if validate_password(password):\n",
    "        print(f\"{password} is a valid password\")\n",
    "    else:\n",
    "        print(f\"{password} is not a valid password\")\n",
    "\n",
    "# Now try your own password\n",
    "your_password = input(\"Enter a password to test: \")\n",
    "if validate_password(your_password):\n",
    "    print(\"Your password is valid!\")\n",
    "else:\n",
    "    print(\"Your password is not valid. Please try again.\")"
   ]
  },
  {
   "cell_type": "markdown",
   "metadata": {},
   "source": [
    "### Final Challenge: String Encryption\n",
    "\n",
    "For our final challenge, let's create a simple encryption method called a Caesar cipher. This method shifts each letter in the message by a certain number of positions in the alphabet."
   ]
  },
  {
   "cell_type": "code",
   "execution_count": null,
   "metadata": {},
   "outputs": [],
   "source": [
    "def caesar_cipher(message, shift):\n",
    "    encrypted = \"\"\n",
    "    for char in message:\n",
    "        if char.isalpha():\n",
    "            ascii_offset = 65 if char.isupper() else 97\n",
    "            encrypted += chr((ord(char) - ascii_offset + shift) % 26 + ascii_offset)\n",
    "        else:\n",
    "            encrypted += char\n",
    "    return encrypted\n",
    "\n",
    "# Test the Caesar cipher\n",
    "message = \"Hello, World!\"\n",
    "shift = 3\n",
    "encrypted = caesar_cipher(message, shift)\n",
    "decrypted = caesar_cipher(encrypted, -shift)\n",
    "\n",
    "print(f\"Original message: {message}\")\n",
    "print(f\"Encrypted message: {encrypted}\")\n",
    "print(f\"Decrypted message: {decrypted}\")\n",
    "\n",
    "# Now try your own message\n",
    "your_message = input(\"Enter a message to encrypt: \")\n",
    "your_shift = int(input(\"Enter a shift value (1-25): \"))\n",
    "your_encrypted = caesar_cipher(your_message, your_shift)\n",
    "print(f\"Your encrypted message: {your_encrypted}\")"
   ]
  },
  {
   "cell_type": "markdown",
   "metadata": {},
   "source": [
    "Congratulations on completing Week 3! You've learned a lot about strings and text manipulation in Python. These skills will be incredibly useful as you continue your Python journey. Remember, the key to mastering programming is practice, so keep experimenting with these concepts!"
   ]
  }
 ],
 "metadata": {
  "kernelspec": {
   "display_name": "Python 3",
   "language": "python",
   "name": "python3"
  },
  "language_info": {
   "codemirror_mode": {
    "name": "ipython",
    "version": 3
   },
   "file_extension": ".py",
   "mimetype": "text/x-python",
   "name": "python",
   "nbconvert_exporter": "python",
   "pygments_lexer": "ipython3",
   "version": "3.8.5"
  }
 },
 "nbformat": 4,
 "nbformat_minor": 4
}

