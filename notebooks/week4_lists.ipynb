{
    "cells": [
        {
            "cell_type": "markdown",
            "metadata": {},
            "source": [
                "# Week 4: Lists in Python\n",
                "\n",
                "Welcome to Week 4 of the OhTutor Python Course! This week, we'll dive into lists - a powerful and flexible way to store and manipulate collections of data in Python."
            ]
        },
        {
            "cell_type": "markdown",
            "metadata": {},
            "source": [
                "## Monday: Introduction to Lists\n",
                "\n",
                "### What are Lists?\n",
                "\n",
                "In Python, a list is an ordered collection of items. These items can be of any type - numbers, strings, or even other lists! Lists are very useful when you want to work with multiple pieces of related data."
            ]
        },
        {
            "cell_type": "code",
            "execution_count": null,
            "metadata": {},
            "outputs": [],
            "source": [
                "# Creating a list\n",
                "fruits = [\"apple\", \"banana\", \"cherry\"]\n",
                "numbers = [1, 2, 3, 4, 5]\n",
                "mixed_list = [\"hello\", 42, True, 3.14]\n",
                "\n",
                "print(\"Fruits:\", fruits)\n",
                "print(\"Numbers:\", numbers)\n",
                "print(\"Mixed list:\", mixed_list)"
            ]
        },
        {
            "cell_type": "markdown",
            "metadata": {},
            "source": [
                "### Accessing List Items\n",
                "\n",
                "We can access individual items in a list using their index, just like we did with strings. Remember, indexing starts at 0!"
            ]
        },
        {
            "cell_type": "code",
            "execution_count": null,
            "metadata": {},
            "outputs": [],
            "source": [
                "colors = [\"red\", \"green\", \"blue\", \"yellow\"]\n",
                "\n",
                "print(\"First color:\", colors[0])\n",
                "print(\"Third color:\", colors[2])\n",
                "print(\"Last color:\", colors[-1])  # Negative indices count from the end"
            ]
        },
        {
            "cell_type": "markdown",
            "metadata": {},
            "source": [
                "### Modifying Lists\n",
                "\n",
                "Unlike strings, lists are mutable, which means we can change their contents after creating them."
            ]
        },
        {
            "cell_type": "code",
            "execution_count": null,
            "metadata": {},
            "outputs": [],
            "source": [
                "pets = [\"dog\", \"cat\", \"fish\"]\n",
                "print(\"Original list:\", pets)\n",
                "\n",
                "# Changing an item\n",
                "pets[1] = \"hamster\"\n",
                "print(\"After changing:\", pets)\n",
                "\n",
                "# Adding an item to the end\n",
                "pets.append(\"parrot\")\n",
                "print(\"After appending:\", pets)\n",
                "\n",
                "# Removing an item\n",
                "pets.remove(\"fish\")\n",
                "print(\"After removing:\", pets)"
            ]
        },
        {
            "cell_type": "markdown",
            "metadata": {},
            "source": [
                "### Exercise: Create Your Own List\n",
                "\n",
                "Now it's your turn! Complete the following exercises:"
            ]
        },
        {
            "cell_type": "code",
            "execution_count": null,
            "metadata": {},
            "outputs": [],
            "source": [
                "# 1. Create a list called 'favorite_subjects' with at least 3 school subjects\n",
                "favorite_subjects = []  # Your code here\n",
                "\n",
                "# 2. Print your list\n",
                "# Your code here\n",
                "\n",
                "# 3. Change the second subject to a different one\n",
                "# Your code here\n",
                "\n",
                "# 4. Add a new subject to the end of the list\n",
                "# Your code here\n",
                "\n",
                "# 5. Print the updated list\n",
                "# Your code here\n",
                "\n",
                "# 6. Print the length of your list\n",
                "# Your code here"
            ]
        },
        {
            "cell_type": "markdown",
            "metadata": {},
            "source": [
                "## Wednesday: List Operations and Methods\n",
                "\n",
                "### List Slicing\n",
                "\n",
                "Just like with strings, we can use slicing to get a portion of a list."
            ]
        },
        {
            "cell_type": "code",
            "execution_count": null,
            "metadata": {},
            "outputs": [],
            "source": [
                "numbers = [0, 1, 2, 3, 4, 5, 6, 7, 8, 9]\n",
                "\n",
                "print(\"First three numbers:\", numbers[:3])\n",
                "print(\"Last three numbers:\", numbers[-3:])\n",
                "print(\"Every other number:\", numbers[::2])\n",
                "print(\"Reversed list:\", numbers[::-1])"
            ]
        },
        {
            "cell_type": "markdown",
            "metadata": {},
            "source": [
                "### List Methods\n",
                "\n",
                "Python provides many useful methods to work with lists. Let's explore some of them!"
            ]
        },
        {
            "cell_type": "code",
            "execution_count": null,
            "metadata": {},
            "outputs": [],
            "source": [
                "fruits = [\"apple\", \"banana\", \"cherry\"]\n",
                "\n",
                "# Adding items\n",
                "fruits.append(\"date\")  # Adds to the end\n",
                "fruits.insert(1, \"blueberry\")  # Inserts at a specific position\n",
                "print(\"After adding:\", fruits)\n",
                "\n",
                "# Removing items\n",
                "fruits.remove(\"cherry\")  # Removes a specific item\n",
                "popped_fruit = fruits.pop()  # Removes and returns the last item\n",
                "print(\"After removing:\", fruits)\n",
                "print(\"Popped fruit:\", popped_fruit)\n",
                "\n",
                "# Other useful methods\n",
                "fruits.sort()  # Sorts the list in place\n",
                "print(\"Sorted fruits:\", fruits)\n",
                "print(\"Number of apples:\", fruits.count(\"apple\"))\n",
                "print(\"Index of banana:\", fruits.index(\"banana\"))"
            ]
        },
        {
            "cell_type": "markdown",
            "metadata": {},
            "source": [
                "### List Comprehensions\n",
                "\n",
                "List comprehensions are a powerful and concise way to create new lists based on existing lists."
            ]
        },
        {
            "cell_type": "code",
            "execution_count": null,
            "metadata": {},
            "outputs": [],
            "source": [
                "# Creating a list of squares\n",
                "squares = [x**2 for x in range(1, 11)]\n",
                "print(\"Squares:\", squares)\n",
                "\n",
                "# Creating a list of even numbers\n",
                "evens = [x for x in range(20) if x % 2 == 0]\n",
                "print(\"Even numbers:\", evens)\n",
                "\n",
                "# Capitalizing fruit names\n",
                "fruits = [\"apple\", \"banana\", \"cherry\"]\n",
                "capitalized_fruits = [fruit.capitalize() for fruit in fruits]\n",
                "print(\"Capitalized fruits:\", capitalized_fruits)"
            ]
        },
        {
            "cell_type": "markdown",
            "metadata": {},
            "source": [
                "### Exercise: List Operations\n",
                "\n",
                "Let's practice what we've learned about list operations and methods!"
            ]
        },
        {
            "cell_type": "code",
            "execution_count": null,
            "metadata": {},
            "outputs": [],
            "source": [
                "# Given list\n",
                "numbers = [4, 2, 8, 6, 5, 1, 9, 3, 7]\n",
                "\n",
                "# 1. Sort the list in ascending order\n",
                "# Your code here\n",
                "\n",
                "# 2. Reverse the sorted list\n",
                "# Your code here\n",
                "\n",
                "# 3. Find and print the index of the number 5\n",
                "# Your code here\n",
                "\n",
                "# 4. Add the number 10 to the end of the list\n",
                "# Your code here\n",
                "\n",
                "# 5. Remove the number 2 from the list\n",
                "# Your code here\n",
                "\n",
                "# 6. Create a new list containing only the even numbers from the original list\n",
                "# Your code here\n",
                "\n",
                "# 7. Print the final version of both lists\n",
                "# Your code here"
            ]
        },
        {
            "cell_type": "markdown",
            "metadata": {},
            "source": [
                "## Friday: Fun Project - Build a To-Do List App\n",
                "\n",
                "Let's use what we've learned about lists to create a simple to-do list application!"
            ]
        },
        {
            "cell_type": "code",
            "execution_count": null,
            "metadata": {},
            "outputs": [],
            "source": [
                "# To-Do List App\n",
                "\n",
                "def show_list(todo_list):\n",
                "    if not todo_list:\n",
                "        print(\"Your to-do list is empty!\")\n",
                "    else:\n",
                "        print(\"Your To-Do List:\")\n",
                "        for i, item in enumerate(todo_list, 1):\n",
                "            print(f\"{i}. {item}\")\n",
                "\n",
                "def add_item(todo_list):\n",
                "    item = input(\"Enter a new to-do item: \")\n",
                "    todo_list.append(item)\n",
                "    print(f\"Added '{item}' to your list.\")\n",
                "\n",
                "def remove_item(todo_list):\n",
                "    show_list(todo_list)\n",
                "    if todo_list:\n",
                "        index = int(input(\"Enter the number of the item to remove: \")) - 1\n",
                "        if 0 <= index < len(todo_list):\n",
                "            removed = todo_list.pop(index)\n",
                "            print(f\"Removed '{removed}' from your list.\")\n",
                "        else:\n",
                "            print(\"Invalid item number.\")\n",
                "\n",
                "def main():\n",
                "    todo_list = []\n",
                "    while True:\n",
                "        print(\"\nWhat would you like to do?\")\n",
                "        print(\"1. Show my to-do list\")\n",
                "        print(\"2. Add an item\")\n",
                "        print(\"3. Remove an item\")\n",
                "        print(\"4. Quit\")\n",
                "        \n",
                "        choice = input(\"Enter your choice (1-4): \")\n",
                "        \n",
                "        if choice == '1':\n",
                "            show_list(todo_list)\n",
                "        elif choice == '2':\n",
                "            add_item(todo_list)\n",
                "        elif choice == '3':\n",
                "            remove_item(todo_list)\n",
                "        elif choice == '4':\n",
                "            print(\"Thank you for using the To-Do List App. Goodbye!\")\n",
                "            break\n",
                "        else:\n",
                "            print(\"Invalid choice. Please try again.\")\n",
                "\n",
                "main()"
            ]
        },
        {
            "cell_type": "markdown",
            "metadata": {},
            "source": [
                "### Challenge: Improve the To-Do List App\n",
                "\n",
                "Can you improve our to-do list app? Here are some ideas:\n",
                "1. Add a feature to mark items as completed instead of removing them\n",
                "2. Allow the user to prioritize items (e.g., high, medium, low priority)\n",
                "3. Add the ability to save the to-do list to a file and load it when the program starts\n",
                "4. Implement a due date for each item\n",
                "\n",
                "Try implementing one or more of these features!"
            ]
        },
        {
            "cell_type": "code",
            "execution_count": null,
            "metadata": {},
            "outputs": [],
            "source": [
                "# Your improved To-Do List App here\n",
                "# Remember to use comments to explain what your code does!"
            ]
        },
        {
            "cell_type": "markdown",
            "metadata": {},
            "source": [
                "## Mini Quiz: Lists in Python\n",
                "\n",
                "Let's test your understanding with a quick quiz. Try to answer these questions without looking back at the notes. After you've answered, run the cell to check your answers!"
            ]
        },
        {
            "cell_type": "code",
            "execution_count": null,
            "metadata": {},
            "outputs": [],
            "source": [
                "# Mini Quiz\n",
                "\n",
                "print(\"Answer these questions by replacing the '?' with the correct letter (a, b, c, or d)\")\n",
                "print(\"After answering all questions, run this cell to check your answers!\")\n",
                "\n",
                "q1 = \"?\"  # What is the output of len([1, 2, 3, 4, 5])\n",
                "q2 = \"?\"  # Which method is used to add an item to the end of a list?\n",
                "q3 = \"?\"  # What does the following code print? numbers = [1, 2, 3, 4, 5]; print(numbers[1:4])\n",
                "q4 = \"?\"  # How do you remove the last item from a list and get its value?\n",
                "q5 = \"?\"  # What is the correct way to create a list of even numbers from 0 to 10 using a list comprehension?\n",
                "\n",
                "# Check answers\n",
                "score = 0\n",
                "if q1.lower() == \"c\":\n",
                "    score += 1\n",
                "    print(\"Question 1: Correct!\")\n",
                "else:\n",
                "    print(\"Question 1: Incorrect. The correct answer is c) 5\")\n",
                "\n",
                "if q2.lower() == \"b\":\n",
                "    score += 1\n",
                "    print(\"Question 2: Correct!\")\n",
                "else:\n",
                "    print(\"Question 2: Incorrect. The correct answer is b) append()\")\n",
                "\n",
                "if q3.lower() == \"a\":\n",
                "    score += 1\n",
                "    print(\"Question 3: Correct!\")\n",
                "else:\n",
                "    print(\"Question 3: Incorrect. The correct answer is a) [2, 3, 4]\")\n",
                "\n",
                "if q4.lower() == \"c\":\n",
                "    score += 1\n",
                "    print(\"Question 4: Correct!\")\n",
                "else:\n",
                "    print(\"Question 4: Incorrect. The correct answer is c) pop()\")\n",
                "\n",
                "if q5.lower() == \"b\":\n",
                "    score += 1\n",
                "    print(\"Question 5: Correct!\")\n",
                "else:\n",
                "    print(\"Question 5: Incorrect. The correct answer is b) [x for x in range(11) if x % 2 == 0]\")\n",
                "\n",
                "print(f\"\nYour score: {score} out of 5\")\n",
                "if score == 5:\n",
                "    print(\"Perfect score! You're a list master!\")\n",
                "elif score >= 3:\n",
                "    print(\"Good work! Keep practicing those list skills.\")\n",
                "else:\n",
                "    print(\"Keep working on it! Lists can be tricky, but you'll get there with practice.\")"
            ]
        },
        {
            "cell_type": "markdown",
            "metadata": {},
            "source": [
                "## Conclusion\n",
                "\n",
                "Congratulations on completing Week 4 of our Python course! You've learned a lot about lists, including:\n",
                "\n",
                "1. Creating and accessing lists\n",
                "2. Modifying list contents\n",
                "3. List slicing\n",
                "4. Important list methods like append(), insert(), remove(), and pop()\n",
                "5. List comprehensions\n",
                "6. Practical application of lists in a to-do list app\n",
                "\n",
                "Lists are a fundamental data structure in Python, and you'll use them frequently as you continue your programming journey. They're incredibly versatile and will be essential in many of the programs you'll write in the future.\n",
                "\n",
                "Remember, the key to mastering these concepts is practice. Try to use lists in your own small projects or modify the to-do list app we created. Don't be afraid to experiment and make mistakes - that's how we learn and grow as programmers!\n",
                "\n",
                "Next week, we'll dive into another important concept in Python: if statements and decision making. Get ready to add some logic to your programs!\n",
                "\n",
                "Keep up the great work, and happy coding!"
            ]
        }
    ],
    "metadata": {
        "kernelspec": {
            "display_name": "Python 3",
            "language": "python",
            "name": "python3"
        },
        "language_info": {
            "codemirror_mode": {
                "name": "ipython",
                "version": 3
            },
            "file_extension": ".py",
            "mimetype": "text/x-python",
            "name": "python",
            "nbconvert_exporter": "python",
            "pygments_lexer": "ipython3",
            "version": "3.8.5"
        }
    },
    "nbformat": 4,
    "nbformat_minor": 4
}
