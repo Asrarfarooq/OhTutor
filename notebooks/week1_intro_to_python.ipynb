# Week 1: Introduction to Python

## Monday: What is Programming? Intro to Python

### What is Programming?

Programming is like giving instructions to a computer to make it do tasks for you. Imagine you're teaching a robot how to make a peanut butter and jelly sandwich. You'd need to be very specific:

1. Pick up the bread bag
2. Open the bread bag
3. Take out two slices of bread
4. Put the slices of bread on the plate
5. Pick up the peanut butter jar
6. Open the peanut butter jar
... and so on

Computers need similar step-by-step instructions to perform tasks. These instructions are called "code", and writing these instructions is called "coding" or "programming".

### Why Learn Programming?

1. **Problem-solving**: Programming teaches you how to break down big problems into smaller, solvable steps.
2. **Creativity**: You can create games, websites, apps, and more!
3. **Future-ready**: Many jobs in the future will involve some form of programming.
4. **Fun**: It's like solving puzzles and building things with your mind!

### What is Python?

Python is a popular programming language that's great for beginners. Here's why:

1. **Easy to read**: Python code looks a lot like English.
2. **Versatile**: You can use Python for games, websites, data analysis, and more!
3. **Popular**: Many companies like Google, Netflix, and NASA use Python.

Let's look at some Python code:

```python
print("Hello, I'm Python!")
```

This line tells Python to display the message "Hello, I'm Python!" on the screen.

Try it yourself! Replace the message with your own and run the cell:

```python
# Type your message between the quotes
print("Type your message here!")
```

Great job! You've just written and run your first Python code!

## Wednesday: Your First Python Program - Hello, World!

### The Classic "Hello, World!" Program

In the programming world, it's a tradition to start learning a new language by making it display "Hello, World!". Let's do that in Python:

```python
print("Hello, World!")
```

Run the cell above. You should see `Hello, World!` displayed below the cell.

### Understanding the Code

Let's break down what's happening:

1. `print()` is a Python function that displays text on the screen.
2. The text you want to display goes inside the parentheses `()`.
3. The text must be enclosed in quotes `""` (either single `''` or double `""` quotes work).

### Try It Yourself!

Now it's your turn! Create a program that says hello to you. Replace "Your Name" with your actual name:

```python
print("Hello, Your Name!")
```

### Variables: Storing Information

In Python, we can store information in containers called variables. Think of them like labeled boxes where you can put stuff.

```python
name = "Python Learner"
print("Hello,", name)
```

In this example, `name` is a variable that stores the text "Python Learner".

Try creating your own variable and using it in a print statement:

```python
# Create a variable called 'favorite_animal' and set it to your favorite animal
favorite_animal = "Your favorite animal here"

# Now use it in a print statement
print("My favorite animal is a", favorite_animal)
```

### Simple Math in Python

Python can also do math! Try these examples:

```python
print(2 + 3)  # Addition
print(7 - 4)  # Subtraction
print(5 * 6)  # Multiplication
print(10 / 2)  # Division
```

You can also use variables with numbers:

```python
apples = 5
oranges = 3
total_fruit = apples + oranges
print("I have", total_fruit, "pieces of fruit.")
```

Try creating your own math problem:

```python
# Create two number variables and perform an operation with them
# For example: 
# num1 = 10
# num2 = 5
# result = num1 * num2
# print(result)

# Your code here:

```

## Friday: Fun Project - Create a Silly Sentence Generator

Now that we know about print statements and variables, let's create something fun - a program that generates silly sentences!

### Lists: Storing Multiple Items

First, we need to learn about lists. A list in Python is a collection of items, like a shopping list. Here's how we create a list:

```python
fruits = ["apple", "banana", "cherry", "durian"]
print(fruits)
```

We can get individual items from the list using their position (remember, in Python we start counting at 0):

```python
print(fruits[0])  # First item
print(fruits[2])  # Third item
```

### Random Choices

To make our sentences random, we'll use Python's `random` module. A module is like a toolbox of extra functions we can use.

```python
import random

# Choose a random fruit
random_fruit = random.choice(fruits)
print("Random fruit:", random_fruit)
```

### Putting It All Together

Now, let's create our silly sentence generator:

```python
import random

adjectives = ["happy", "silly", "purple", "fluffy", "noisy", "hungry", "gigantic"]
nouns = ["cat", "robot", "pizza", "spaceship", "unicorn", "dragon", "monkey"]
verbs = ["dances", "sings", "flies", "eats", "dreams", "jumps", "explodes"]

def generate_silly_sentence():
    adj = random.choice(adjectives)
    noun = random.choice(nouns)
    verb = random.choice(verbs)
    return f"The {adj} {noun} {verb} loudly!"

# Generate and print 5 silly sentences
for i in range(5):
    print(f"Silly Sentence {i+1}:", generate_silly_sentence())
```

This program introduces several new concepts:
1. Importing modules (`import random`)
2. Lists (e.g., `adjectives = [...]`)
3. Functions (`def generate_silly_sentence():`)
4. F-strings (`f"The {adj}..."`)
5. Loops (`for i in range(5):`)

### Customize It!

Now it's your turn to make the silly sentence generator your own! Add your own adjectives, nouns, and verbs to the lists:

```python
import random

# Add your own words to these lists
adjectives = ["happy", "silly", "purple", "fluffy", "noisy", "hungry", "gigantic"]
nouns = ["cat", "robot", "pizza", "spaceship", "unicorn", "dragon", "monkey"]
verbs = ["dances", "sings", "flies", "eats", "dreams", "jumps", "explodes"]

def generate_silly_sentence():
    adj = random.choice(adjectives)
    noun = random.choice(nouns)
    verb = random.choice(verbs)
    return f"The {adj} {noun} {verb} loudly!"

# Generate and print 3 silly sentences with your new words
for i in range(3):
    print(f"My Silly Sentence {i+1}:", generate_silly_sentence())
```

Great job! You've created your own silly sentence generator!

## Mini Quiz: Basic Python Concepts

Let's test your understanding with a quick quiz. Try to answer these questions without looking back at the notes. After you've answered, run the cell to check your answers!

```python
# Mini Quiz

print("Answer these questions by replacing the '?' with the correct letter (a, b, c, or d)")
print("After answering all questions, run this cell to check your answers!")

q1 = "?"  # What function do we use to output text in Python?
q2 = "?"  # In Python, we enclose text (strings) in:
q3 = "?"  # What does random.choice() do?
q4 = "?"  # Is this statement true or false: Python code must be compiled before it can be run.
q5 = "?"  # What is the output of: print("2" + "2")

# Check answers
score = 0
if q1.lower() == "c":
    score += 1
    print("Question 1: Correct!")
else:
    print("Question 1: Incorrect. The correct answer is c) print()")

if q2.lower() == "b":
    score += 1
    print("Question 2: Correct!")
else:
    print("Question 2: Incorrect. The correct answer is b) Quotes \" \" or ' '")

if q3.lower() == "b":
    score += 1
    print("Question 3: Correct!")
else:
    print("Question 3: Incorrect. The correct answer is b) Selects a random item from a list")

if q4.lower() == "b":
    score += 1
    print("Question 4: Correct!")
else:
    print("Question 4: Incorrect. The correct answer is b) False (Python is an interpreted language)")

if q5.lower() == "c":
    score += 1
    print("Question 5: Correct!")
else:
    print("Question 5: Incorrect. The correct answer is c) \"22\" (It concatenates the strings)")

print(f"\nYour score: {score} out of 5")
if score == 5:
    print("Perfect score! Great job!")
elif score >= 3:
    print("Good work! You're on the right track.")
else:
    print("Keep practicing! You'll get there.")
```

Congratulations on completing your first week of Python! Remember, programming is a skill that improves with practice. Don't be afraid to experiment with the code and try your own ideas. Happy coding!
