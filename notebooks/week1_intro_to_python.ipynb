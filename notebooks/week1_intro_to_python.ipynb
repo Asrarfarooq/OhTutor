{
 "cells": [
  {
   "cell_type": "markdown",
   "metadata": {},
   "source": [
    "# Week 1: Introduction to Python\n",
    "\n",
    "Welcome to Week 1 of the OhTutor Python Course!"
   ]
  },
  {
   "cell_type": "markdown",
   "metadata": {},
   "source": [
    "## Monday: What is Programming? Intro to Python\n",
    "\n",
    "### What is Programming?\n",
    "\n",
    "Programming is like giving instructions to a computer to make it do tasks for you. Imagine you're teaching a robot how to make a peanut butter and jelly sandwich. You'd need to be very specific:\n",
    "\n",
    "1. Pick up the bread bag\n",
    "2. Open the bread bag\n",
    "3. Take out two slices of bread\n",
    "4. Put the slices of bread on the plate\n",
    "5. Pick up the peanut butter jar\n",
    "6. Open the peanut butter jar\n",
    "... and so on\n",
    "\n",
    "Computers need similar step-by-step instructions to perform tasks. These instructions are called \"code\", and writing these instructions is called \"coding\" or \"programming\".\n",
    "\n",
    "### Why Learn Programming?\n",
    "\n",
    "1. **Problem-solving**: Programming teaches you how to break down big problems into smaller, solvable steps.\n",
    "2. **Creativity**: You can create games, websites, apps, and more!\n",
    "3. **Future-ready**: Many jobs in the future will involve some form of programming.\n",
    "4. **Fun**: It's like solving puzzles and building things with your mind!\n",
    "\n",
    "### What is Python?\n",
    "\n",
    "Python is a popular programming language that's great for beginners. Here's why:\n",
    "\n",
    "1. **Easy to read**: Python code looks a lot like English.\n",
    "2. **Versatile**: You can use Python for games, websites, data analysis, and more!\n",
    "3. **Popular**: Many companies like Google, Netflix, and NASA use Python.\n",
    "\n",
    "Let's look at some Python code:"
   ]
  },
  {
   "cell_type": "code",
   "execution_count": null,
   "metadata": {},
   "outputs": [],
   "source": [
    "print(\"Hello, I'm Python!\")"
   ]
  },
  {
   "cell_type": "markdown",
   "metadata": {},
   "source": [
    "This line tells Python to display the message \"Hello, I'm Python!\" on the screen.\n",
    "\n",
    "Try it yourself! Replace the message with your own and run the cell:"
   ]
  },
  {
   "cell_type": "code",
   "execution_count": null,
   "metadata": {},
   "outputs": [],
   "source": [
    "# Type your message between the quotes\n",
    "print(\"Type your message here!\")"
   ]
  },
  {
   "cell_type": "markdown",
   "metadata": {},
   "source": [
    "Great job! You've just written and run your first Python code!"
   ]
  },
  {
   "cell_type": "markdown",
   "metadata": {},
   "source": [
    "## Wednesday: Your First Python Program - Hello, World!\n",
    "\n",
    "### The Classic \"Hello, World!\" Program\n",
    "\n",
    "In the programming world, it's a tradition to start learning a new language by making it display \"Hello, World!\". Let's do that in Python:"
   ]
  },
  {
   "cell_type": "code",
   "execution_count": null,
   "metadata": {},
   "outputs": [],
   "source": [
    "print(\"Hello, World!\")"
   ]
  },
  {
   "cell_type": "markdown",
   "metadata": {},
   "source": [
    "### Understanding the Code\n",
    "\n",
    "Let's break down what's happening:\n",
    "\n",
    "1. `print()` is a Python function that displays text on the screen.\n",
    "2. The text you want to display goes inside the parentheses `()`.\n",
    "3. The text must be enclosed in quotes `\"\"` (either single `''` or double `\"\"` quotes work).\n",
    "\n",
    "### Try It Yourself!\n",
    "\n",
    "Now it's your turn! Create a program that says hello to you. Replace \"Your Name\" with your actual name:"
   ]
  },
  {
   "cell_type": "code",
   "execution_count": null,
   "metadata": {},
   "outputs": [],
   "source": [
    "print(\"Hello, Your Name!\")"
   ]
  },
  {
   "cell_type": "markdown",
   "metadata": {},
   "source": [
    "### Variables: Storing Information\n",
    "\n",
    "In Python, we can store information in containers called variables. Think of them like labeled boxes where you can put stuff."
   ]
  },
  {
   "cell_type": "code",
   "execution_count": null,
   "metadata": {},
   "outputs": [],
   "source": [
    "name = \"Python Learner\"\n",
    "print(\"Hello,\", name)"
   ]
  },
  {
   "cell_type": "markdown",
   "metadata": {},
   "source": [
    "In this example, `name` is a variable that stores the text \"Python Learner\".\n",
    "\n",
    "Try creating your own variable and using it in a print statement:"
   ]
  },
  {
   "cell_type": "code",
   "execution_count": null,
   "metadata": {},
   "outputs": [],
   "source": [
    "# Create a variable called 'favorite_animal' and set it to your favorite animal\n",
    "favorite_animal = \"Your favorite animal here\"\n",
    "\n",
    "# Now use it in a print statement\n",
    "print(\"My favorite animal is a\", favorite_animal)"
   ]
  },
  {
   "cell_type": "markdown",
   "metadata": {},
   "source": [
    "### Simple Math in Python\n",
    "\n",
    "Python can also do math! Try these examples:"
   ]
  },
  {
   "cell_type": "code",
   "execution_count": null,
   "metadata": {},
   "outputs": [],
   "source": [
    "print(2 + 3)  # Addition\n",
    "print(7 - 4)  # Subtraction\n",
    "print(5 * 6)  # Multiplication\n",
    "print(10 / 2)  # Division"
   ]
  },
  {
   "cell_type": "markdown",
   "metadata": {},
   "source": [
    "You can also use variables with numbers:"
   ]
  },
  {
   "cell_type": "code",
   "execution_count": null,
   "metadata": {},
   "outputs": [],
   "source": [
    "apples = 5\n",
    "oranges = 3\n",
    "total_fruit = apples + oranges\n",
    "print(\"I have\", total_fruit, \"pieces of fruit.\")"
   ]
  },
  {
   "cell_type": "markdown",
   "metadata": {},
   "source": [
    "Try creating your own math problem:"
   ]
  },
  {
   "cell_type": "code",
   "execution_count": null,
   "metadata": {},
   "outputs": [],
   "source": [
    "# Create two number variables and perform an operation with them\n",
    "# For example: \n",
    "# num1 = 10\n",
    "# num2 = 5\n",
    "# result = num1 * num2\n",
    "# print(result)\n",
    "\n",
    "# Your code here:\n"
   ]
  },
  {
   "cell_type": "markdown",
   "metadata": {},
   "source": [
    "## Friday: Fun Project - Create a Silly Sentence Generator\n",
    "\n",
    "Now that we know about print statements and variables, let's create something fun - a program that generates silly sentences!\n",
    "\n",
    "### Lists: Storing Multiple Items\n",
    "\n",
    "First, we need to learn about lists. A list in Python is a collection of items, like a shopping list. Here's how we create a list:"
   ]
  },
  {
   "cell_type": "code",
   "execution_count": null,
   "metadata": {},
   "outputs": [],
   "source": [
    "fruits = [\"apple\", \"banana\", \"cherry\", \"durian\"]\n",
    "print(fruits)"
   ]
  },
  {
   "cell_type": "markdown",
   "metadata": {},
   "source": [
    "We can get individual items from the list using their position (remember, in Python we start counting at 0):"
   ]
  },
  {
   "cell_type": "code",
   "execution_count": null,
   "metadata": {},
   "outputs": [],
   "source": [
    "print(fruits[0])  # First item\n",
    "print(fruits[2])  # Third item"
   ]
  },
  {
   "cell_type": "markdown",
   "metadata": {},
   "source": [
    "### Random Choices\n",
    "\n",
    "To make our sentences random, we'll use Python's `random` module. A module is like a toolbox of extra functions we can use."
   ]
  },
  {
   "cell_type": "code",
   "execution_count": null,
   "metadata": {},
   "outputs": [],
   "source": [
    "import random\n",
    "\n",
    "# Choose a random fruit\n",
    "random_fruit = random.choice(fruits)\n",
    "print(\"Random fruit:\", random_fruit)"
   ]
  },
  {
   "cell_type": "markdown",
   "metadata": {},
   "source": [
    "### Putting It All Together\n",
    "\n",
    "Now, let's create our silly sentence generator:"
   ]
  },
  {
   "cell_type": "code",
   "execution_count": null,
   "metadata": {},
   "outputs": [],
   "source": [
    "import random\n",
    "\n",
    "adjectives = [\"happy\", \"silly\", \"purple\", \"fluffy\", \"noisy\", \"hungry\", \"gigantic\"]\n",
    "nouns = [\"cat\", \"robot\", \"pizza\", \"spaceship\", \"unicorn\", \"dragon\", \"monkey\"]\n",
    "verbs = [\"dances\", \"sings\", \"flies\", \"eats\", \"dreams\", \"jumps\", \"explodes\"]\n",
    "\n",
    "def generate_silly_sentence():\n",
    "    adj = random.choice(adjectives)\n",
    "    noun = random.choice(nouns)\n",
    "    verb = random.choice(verbs)\n",
    "    return f\"The {adj} {noun} {verb} loudly!\"\n",
    "\n",
    "# Generate and print 5 silly sentences\n",
    "for i in range(5):\n",
    "    print(f\"Silly Sentence {i+1}:\", generate_silly_sentence())"
   ]
  },
  {
   "cell_type": "markdown",
   "metadata": {},
   "source": [
    "This program introduces several new concepts:\n",
    "1. Importing modules (`import random`)\n",
    "2. Lists (e.g., `adjectives = [...]`)\n",
    "3. Functions (`def generate_silly_sentence():`)\n",
    "4. F-strings (`f\"The {adj}...\"`)\n",
    "5. Loops (`for i in range(5):`)\n",
    "\n",
    "### Customize It!\n",
    "\n",
    "Now it's your turn to make the silly sentence generator your own! Add your own adjectives, nouns, and verbs to the lists:"
   ]
  },
  {
   "cell_type": "code",
   "execution_count": null,
   "metadata": {},
   "outputs": [],
   "source": [
    "import random\n",
    "\n",
    "# Add your own words to these lists\n",
    "adjectives = [\"happy\", \"silly\", \"purple\", \"fluffy\", \"noisy\", \"hungry\", \"gigantic\"]\n",
    "nouns = [\"cat\", \"robot\", \"pizza\", \"spaceship\", \"unicorn\", \"dragon\", \"monkey\"]\n",
    "verbs = [\"dances\", \"sings\", \"flies\", \"eats\", \"dreams\", \"jumps\", \"explodes\"]\n",
    "\n",
    "def generate_silly_sentence():\n",
    "    adj = random.choice(adjectives)\n",
    "    noun = random.choice(nouns)\n",
    "    verb = random.choice(verbs)\n",
    "    return f\"The {adj} {noun} {verb} loudly!\"\n",
    "\n",
    "# Generate and print 3 silly sentences with your new words\n",
    "for i in range(3):\n",
    "    print(f\"My Silly Sentence {i+1}:\", generate_silly_sentence())"
   ]
  },
  {
   "cell_type": "markdown",
   "metadata": {},
   "source": [
    "Great job! You've created your own silly sentence generator!"
   ]
  },
  {
   "cell_type": "markdown",
   "metadata": {},
   "source": [
    "## Mini Quiz: Basic Python Concepts\n",
    "\n",
    "Let's test your understanding with a quick quiz. Try to answer these questions without looking back at the notes. After you've answered, run the cell to check your answers!"
   ]
  },
  {
   "cell_type": "code",
   "execution_count": null,
   "metadata": {},
   "outputs": [],
   "source": [
    "# Mini Quiz\n",
    "\n",
    "print(\"Answer these questions by replacing the '?' with the correct letter (a, b, c, or d)\")\n",
    "print(\"After answering all questions, run this cell to check your answers!\")\n",
    "\n",
    "q1 = \"?\"  # What function do we use to output text in Python?\n",
    "q2 = \"?\"  # In Python, we enclose text (strings) in:\n",
    "q3 = \"?\"  # What does random.choice() do?\n",
    "q4 = \"?\"  # Is this statement true or false: Python code must be compiled before it can be run.\n",
    "q5 = \"?\"  # What is the output of: print(\"2\" + \"2\")\n",
    "\n",
    "# Check answers\n",
    "score = 0\n",
    "if q1.lower() == \"c\":\n",
    "    score += 1\n",
    "    print(\"Question 1: Correct!\")\n",
    "else:\n",
    "    print(\"Question 1: Incorrect. The correct answer is c) print()\")\n",
    "\n",
    "if q2.lower() == \"b\":\n",
    "    score += 1\n",
    "    print(\"Question 2: Correct!\")\n",
    "else:\n",
    "    print(\"Question 2: Incorrect. The correct answer is b) Quotes \\\" \\\" or ' '\")\n",
    "\n",
    "if q3.lower() == \"b\":\n",
    "    score += 1\n",
    "    print(\"Question 3: Correct!\")\n",
    "else:\n",
    "    print(\"Question 3: Incorrect. The correct answer is b) Selects a random item from a list\")\n",
    "\n",
    "if q4.lower() == \"b\":\n",
    "    score += 1\n",
    "    print(\"Question 4: Correct!\")\n",
    "else:\n",
    "    print(\"Question 4: Incorrect. The correct answer is b) False (Python is an interpreted language)\")\n",
    "\n",
    "if q5.lower() == \"c\":\n",
    "    score += 1\n",
    "    print(\"Question 5: Correct!\")\n",
    "else:\n",
    "    print(\"Question 5: Incorrect. The correct answer is c) \\\"22\\\" (It concatenates the strings)\")\n",
    "\n",
    "print(f\"\\nYour score: {score} out of 5\")\n",
    "if score == 5:\n",
    "    print(\"Perfect score! Great job!\")\n",
    "elif score >= 3:\n",
    "    print(\"Good work! You're on the right track.\")\n",
    "else:\n",
    "    print(\"Keep practicing! You'll get there.\")"
   ]
  },
  {
   "cell_type": "markdown",
   "metadata": {},
   "source": [
    "Congratulations on completing your first week of Python! Remember, programming is a skill that improves with practice. Don't be afraid to experiment with the code and try your own ideas. Happy coding!"
   ]
  }
 ],
 "metadata": {
  "kernelspec": {
   "display_name": "Python 3",
   "language": "python",
   "name": "python3"
  },
  "language_info": {
   "codemirror_mode": {
    "name": "ipython",
    "version": 3
   },
   "file_extension": ".py",
   "mimetype": "text/x-python",
   "name": "python",
   "nbconvert_exporter": "python",
   "pygments_lexer": "ipython3",
   "version": "3.8.5"
  }
 },
 "nbformat": 4,
 "nbformat_minor": 4
}
