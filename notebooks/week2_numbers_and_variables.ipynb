{
 "cells": [
  {
   "cell_type": "markdown",
   "metadata": {},
   "source": [
    "# Week 2: Numbers, Math, and Variables in Python\n",
    "\n",
    "Welcome to Week 2 of the OhTutor Python Course! This week, we'll learn about numbers, math operations, and variables in Python."
   ]
  },
  {
   "cell_type": "markdown",
   "metadata": {},
   "source": [
    "## Monday: Numbers and Math in Python\n",
    "\n",
    "### Types of Numbers in Python\n",
    "\n",
    "In Python, we mainly work with two types of numbers:\n",
    "\n",
    "1. **Integers (int)**: Whole numbers like 5, -3, 0, 42\n",
    "2. **Floating-point numbers (float)**: Numbers with decimal points like 3.14, -0.5, 2.0\n",
    "\n",
    "Let's see some examples:"
   ]
  },
  {
   "cell_type": "code",
   "execution_count": null,
   "metadata": {},
   "outputs": [],
   "source": [
    "print(5)       # This is an integer\n",
    "print(3.14)    # This is a float\n",
    "print(type(5))\n",
    "print(type(3.14))"
   ]
  },
  {
   "cell_type": "markdown",
   "metadata": {},
   "source": [
    "### Basic Math Operations\n",
    "\n",
    "Python can do all sorts of math operations. Let's try some:"
   ]
  },
  {
   "cell_type": "code",
   "execution_count": null,
   "metadata": {},
   "outputs": [],
   "source": [
    "print(5 + 3)   # Addition\n",
    "print(10 - 4)  # Subtraction\n",
    "print(6 * 7)   # Multiplication\n",
    "print(20 / 5)  # Division\n",
    "print(11 % 3)  # Modulus (remainder after division)\n",
    "print(2 ** 3)  # Exponentiation (2 to the power of 3)"
   ]
  },
  {
   "cell_type": "markdown",
   "metadata": {},
   "source": [
    "Now it's your turn! Try to solve these math problems:"
   ]
  },
  {
   "cell_type": "code",
   "execution_count": null,
   "metadata": {},
   "outputs": [],
   "source": [
    "# Problem 1: How many cookies are left if you have 15 cookies and eat 7?\n",
    "print(15 - 7)\n",
    "\n",
    "# Problem 2: If you have 4 friends and want to give each friend 3 stickers, how many stickers do you need?\n",
    "print(4 * 3)\n",
    "\n",
    "# Problem 3: You have $10 and want to buy candy bars that cost $2.50 each. How many can you buy?\n",
    "print(10 // 2.50)  # We use // for integer division (whole number result)"
   ]
  },
  {
   "cell_type": "markdown",
   "metadata": {},
   "source": [
    "## Wednesday: Variables - Storing and Using Information\n",
    "\n",
    "### What are Variables?\n",
    "\n",
    "Variables are like labeled boxes where we can store information. We can put numbers, text, or other types of data in these boxes and use them later in our program.\n",
    "\n",
    "Here's how we create variables:"
   ]
  },
  {
   "cell_type": "code",
   "execution_count": null,
   "metadata": {},
   "outputs": [],
   "source": [
    "age = 11\n",
    "height = 1.5\n",
    "name = \"Alex\"\n",
    "\n",
    "print(\"My name is\", name)\n",
    "print(\"I am\", age, \"years old\")\n",
    "print(\"I am\", height, \"meters tall\")"
   ]
  },
  {
   "cell_type": "markdown",
   "metadata": {},
   "source": [
    "We can also change the value stored in a variable:"
   ]
  },
  {
   "cell_type": "code",
   "execution_count": null,
   "metadata": {},
   "outputs": [],
   "source": [
    "cookies = 10\n",
    "print(\"I have\", cookies, \"cookies\")\n",
    "\n",
    "cookies = cookies - 3\n",
    "print(\"After eating 3 cookies, I now have\", cookies, \"cookies\")"
   ]
  },
  {
   "cell_type": "markdown",
   "metadata": {},
   "source": [
    "### Using Variables in Math\n",
    "\n",
    "We can use variables in our math operations too:"
   ]
  },
  {
   "cell_type": "code",
   "execution_count": null,
   "metadata": {},
   "outputs": [],
   "source": [
    "apples = 5\n",
    "oranges = 3\n",
    "total_fruit = apples + oranges\n",
    "\n",
    "print(\"I have\", apples, \"apples and\", oranges, \"oranges\")\n",
    "print(\"In total, I have\", total_fruit, \"pieces of fruit\")\n",
    "\n",
    "price_per_fruit = 0.5\n",
    "total_cost = total_fruit * price_per_fruit\n",
    "print(\"If each fruit costs $\", price_per_fruit, \"then all my fruit costs $\", total_cost)"
   ]
  },
  {
   "cell_type": "markdown",
   "metadata": {},
   "source": [
    "Now it's your turn! Complete these exercises:"
   ]
  },
  {
   "cell_type": "code",
   "execution_count": null,
   "metadata": {},
   "outputs": [],
   "source": [
    "# Exercise 1: Create a variable called 'books' and set it to how many books you have.\n",
    "# Then print a sentence using this variable.\n",
    "books = 0  # Change this number\n",
    "print(\"I have\", books, \"books on my shelf\")\n",
    "\n",
    "# Exercise 2: Create two variables, 'candy_bars' and 'friends'. Then calculate how many\n",
    "# candy bars each friend would get if you share them equally, and print the result.\n",
    "candy_bars = 12\n",
    "friends = 3\n",
    "candies_per_friend = candy_bars / friends\n",
    "print(\"If I share\", candy_bars, \"candy bars among\", friends, \"friends,\")\n",
    "print(\"each friend would get\", candies_per_friend, \"candy bars\")"
   ]
  },
  {
   "cell_type": "markdown",
   "metadata": {},
   "source": [
    "## Friday: Fun Project - Build a Simple Calculator\n",
    "\n",
    "Let's use what we've learned about numbers, math, and variables to build a simple calculator!"
   ]
  },
  {
   "cell_type": "code",
   "execution_count": null,
   "metadata": {},
   "outputs": [],
   "source": [
    "# Simple Calculator\n",
    "\n",
    "# Get two numbers from the user\n",
    "num1 = float(input(\"Enter the first number: \"))\n",
    "num2 = float(input(\"Enter the second number: \"))\n",
    "\n",
    "# Perform calculations\n",
    "sum_result = num1 + num2\n",
    "difference = num1 - num2\n",
    "product = num1 * num2\n",
    "quotient = num1 / num2 if num2 != 0 else \"Cannot divide by zero\"\n",
    "\n",
    "# Print results\n",
    "print(f\"{num1} + {num2} = {sum_result}\")\n",
    "print(f\"{num1} - {num2} = {difference}\")\n",
    "print(f\"{num1} * {num2} = {product}\")\n",
    "print(f\"{num1} / {num2} = {quotient}\")"
   ]
  },
  {
   "cell_type": "markdown",
   "metadata": {},
   "source": [
    "Try running the calculator with different numbers!\n",
    "\n",
    "### Challenge: Improve the Calculator\n",
    "\n",
    "Can you add more features to our calculator? Here are some ideas:\n",
    "1. Add an operation for exponents (num1 ** num2)\n",
    "2. Calculate the remainder of division (num1 % num2)\n",
    "3. Allow the user to choose which operation they want to perform\n",
    "\n",
    "Try implementing one or more of these features!"
   ]
  },
  {
   "cell_type": "code",
   "execution_count": null,
   "metadata": {},
   "outputs": [],
   "source": [
    "# Your improved calculator code here\n",
    "# Remember to use comments to explain what your code does!"
   ]
  },
  {
   "cell_type": "markdown",
   "metadata": {},
   "source": [
    "## Mini Quiz: Numbers, Math, and Variables\n",
    "\n",
    "Let's test your understanding with a quick quiz. Try to answer these questions without looking back at the notes. After you've answered, run the cell to check your answers!"
   ]
  },
  {
   "cell_type": "code",
   "execution_count": null,
   "metadata": {},
   "outputs": [],
   "source": [
    "# Mini Quiz\n",
    "\n",
    "print(\"Answer these questions by replacing the '?' with the correct letter (a, b, c, or d)\")\n",
    "print(\"After answering all questions, run this cell to check your answers!\")\n",
    "\n",
    "q1 = \"?\"  # What is the result of 15 / 4 in Python?\n",
    "q2 = \"?\"  # Which symbol is used for exponentiation in Python?\n",
    "q3 = \"?\"  # What happens when you run: x = 5; x = x + 3; print(x)\n",
    "q4 = \"?\"  # What type of number is 3.0 in Python?\n",
    "q5 = \"?\"  # If x = 10 and y = 3, what is the value of x % y?\n",
    "\n",
    "# Check answers\n",
    "score = 0\n",
    "if q1.lower() == \"c\":\n",
    "    score += 1\n",
    "    print(\"Question 1: Correct!\")\n",
    "else:\n",
    "    print(\"Question 1: Incorrect. The correct answer is c) 3.75\")\n",
    "\n",
    "if q2.lower() == \"b\":\n",
    "    score += 1\n",
    "    print(\"Question 2: Correct!\")\n",
    "else:\n",
    "    print(\"Question 2: Incorrect. The correct answer is b) **\")\n",
    "\n",
    "if q3.lower() == \"a\":\n",
    "    score += 1\n",
    "    print(\"Question 3: Correct!\")\n",
    "else:\n",
    "    print(\"Question 3: Incorrect. The correct answer is a) It prints 8\")\n",
    "\n",
    "if q4.lower() == \"b\":\n",
    "    score += 1\n",
    "    print(\"Question 4: Correct!\")\n",
    "else:\n",
    "    print(\"Question 4: Incorrect. The correct answer is b) Float\")\n",
    "\n",
    "if q5.lower() == \"c\":\n",
    "    score += 1\n",
    "    print(\"Question 5: Correct!\")\n",
    "else:\n",
    "    print(\"Question 5: Incorrect. The correct answer is c) 1\")\n",
    "\n",
    "print(f\"\\nYour score: {score} out of 5\")\n",
    "if score == 5:\n",
    "    print(\"Perfect score! You're a math wizard!\")\n",
    "elif score >= 3:\n",
    "    print(\"Good work! Keep practicing those math skills.\")\n",
    "else:\n",
    "    print(\"Keep working on it! Math and Python take practice.\")"
   ]
  },
  {
   "cell_type": "markdown",
   "metadata": {},
   "source": [
    "Great job completing Week 2! You've learned about numbers, math operations, and variables in Python. These are fundamental concepts that you'll use in almost every Python program you write. Keep practicing and experimenting with these concepts!"
   ]
  }
 ],
 "metadata": {
  "kernelspec": {
   "display_name": "Python 3",
   "language": "python",
   "name": "python3"
  },
  "language_info": {
   "codemirror_mode": {
    "name": "ipython",
    "version": 3
   },
   "file_extension": ".py",
   "mimetype": "text/x-python",
   "name": "python",
   "nbconvert_exporter": "python",
   "pygments_lexer": "ipython3",
   "version": "3.8.5"
  }
 },
 "nbformat": 4,
 "nbformat_minor": 4
}
